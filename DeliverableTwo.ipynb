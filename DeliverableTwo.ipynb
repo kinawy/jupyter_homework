{
 "cells": [
  {
   "cell_type": "code",
   "execution_count": 1,
   "metadata": {},
   "outputs": [],
   "source": [
    "# Question 1, Loop\n",
    "\n",
    "def p_times():\n",
    "    user_statement = input(\"Enter a statement: \")\n",
    "    number = int(input(\"Enter how many times: \"))\n",
    "    for _i in range(1, number + 1):\n",
    "        print(user_statement)"
   ]
  },
  {
   "cell_type": "code",
   "execution_count": 2,
   "metadata": {},
   "outputs": [
    {
     "name": "stdout",
     "output_type": "stream",
     "text": [
      "Enter a statement: hello\n",
      "Enter how many times: 3\n",
      "hello\n",
      "hello\n",
      "hello\n"
     ]
    }
   ],
   "source": [
    "p_times()"
   ]
  },
  {
   "cell_type": "code",
   "execution_count": 3,
   "metadata": {},
   "outputs": [],
   "source": [
    "dd = {}\n",
    "\n",
    "def letter_count(string):\n",
    "    global dd\n",
    "\n",
    "    for letter in string:\n",
    "        if letter not in dd:\n",
    "            dd[letter] = 1\n",
    "        elif letter in dd:\n",
    "            dd[letter] +=1\n",
    "    return dd"
   ]
  },
  {
   "cell_type": "code",
   "execution_count": 4,
   "metadata": {},
   "outputs": [
    {
     "name": "stdout",
     "output_type": "stream",
     "text": [
      "{'H': 1, 'e': 1, 'l': 2, 'o': 1}\n"
     ]
    }
   ],
   "source": [
    "print(letter_count(\"Hello\"))"
   ]
  },
  {
   "cell_type": "code",
   "execution_count": 5,
   "metadata": {},
   "outputs": [],
   "source": [
    "# Question 3, Print Contacts\n",
    "\n",
    "contacts = {\n",
    "  'Brian': '333-333-3333',\n",
    "  'Lenny': '444-444-4444',\n",
    "  'Daniel': '777-777-7777'\n",
    "}\n",
    "\n",
    "def print_contacts(phonebook):\n",
    "    for contact in phonebook:\n",
    "        if contact in phonebook:\n",
    "            value = phonebook[contact]\n",
    "            print(f\"{contact} has a phone number of {value}\")\n",
    "        \n"
   ]
  },
  {
   "cell_type": "code",
   "execution_count": 6,
   "metadata": {},
   "outputs": [
    {
     "name": "stdout",
     "output_type": "stream",
     "text": [
      "Brian has a phone number of 333-333-3333\n",
      "Lenny has a phone number of 444-444-4444\n",
      "Daniel has a phone number of 777-777-7777\n"
     ]
    }
   ],
   "source": [
    "print_contacts(contacts)"
   ]
  },
  {
   "cell_type": "code",
   "execution_count": 7,
   "metadata": {},
   "outputs": [],
   "source": [
    "#Question 4, Multiply By\n",
    "\n",
    "my_array = [2, 14, 3]\n",
    "\n",
    "def multiply_by(array, num):\n",
    "    print(list(map(lambda x: x * num, array)))"
   ]
  },
  {
   "cell_type": "code",
   "execution_count": 8,
   "metadata": {},
   "outputs": [
    {
     "name": "stdout",
     "output_type": "stream",
     "text": [
      "[4, 28, 6]\n"
     ]
    }
   ],
   "source": [
    "multiply_by(my_array, 2)"
   ]
  },
  {
   "cell_type": "code",
   "execution_count": 9,
   "metadata": {},
   "outputs": [],
   "source": [
    "# Alternate way to do problem 4\n",
    "\n",
    "my_array2 = [2, 14, 3]\n",
    "my_new_array = []\n",
    "\n",
    "def multiply_by2(array, num):\n",
    "    for number in array:\n",
    "       my_new_array.append(number * num)"
   ]
  },
  {
   "cell_type": "code",
   "execution_count": 10,
   "metadata": {},
   "outputs": [
    {
     "name": "stdout",
     "output_type": "stream",
     "text": [
      "[4, 28, 6]\n"
     ]
    }
   ],
   "source": [
    "multiply_by2(my_array, 2)\n",
    "print(my_new_array)"
   ]
  },
  {
   "cell_type": "code",
   "execution_count": 11,
   "metadata": {},
   "outputs": [],
   "source": [
    "def factory(n):\n",
    "    new_num = 1\n",
    "    for digit in range(1, n + 1):\n",
    "        new_num *= digit\n",
    "    return new_num"
   ]
  },
  {
   "cell_type": "code",
   "execution_count": 12,
   "metadata": {},
   "outputs": [
    {
     "name": "stdout",
     "output_type": "stream",
     "text": [
      "120\n"
     ]
    }
   ],
   "source": [
    "print(factory(5))"
   ]
  },
  {
   "cell_type": "code",
   "execution_count": null,
   "metadata": {},
   "outputs": [],
   "source": []
  }
 ],
 "metadata": {
  "kernelspec": {
   "display_name": "Python 3",
   "language": "python",
   "name": "python3"
  },
  "language_info": {
   "codemirror_mode": {
    "name": "ipython",
    "version": 3
   },
   "file_extension": ".py",
   "mimetype": "text/x-python",
   "name": "python",
   "nbconvert_exporter": "python",
   "pygments_lexer": "ipython3",
   "version": "3.8.2"
  }
 },
 "nbformat": 4,
 "nbformat_minor": 4
}
