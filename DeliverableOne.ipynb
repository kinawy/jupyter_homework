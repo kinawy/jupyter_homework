{
 "cells": [
  {
   "cell_type": "code",
   "execution_count": 6,
   "metadata": {},
   "outputs": [],
   "source": [
    "import random"
   ]
  },
  {
   "cell_type": "code",
   "execution_count": 7,
   "metadata": {},
   "outputs": [],
   "source": [
    "secret_words = ['word', 'banana', 'divorce', 'cat', 'dinosaur']\n",
    "random_word = random.choice(secret_words)\n",
    "output = list('_'*len(random_word))\n",
    "hang_array = ['  O\\n\\( )/\\n / \\\\', '  O\\n\\( )/\\n /', '  O\\n\\( )/', '  O\\n ( )/', '  O\\n ( )', ' O']"
   ]
  },
  {
   "cell_type": "code",
   "execution_count": 8,
   "metadata": {},
   "outputs": [],
   "source": [
    "def hang_man():\n",
    "    print(random_word)\n",
    "    print(' '.join(output))\n",
    "    if len(hang_array) > 0:\n",
    "        while (hang_array):\n",
    "            letter = str(input(\"Enter a Letter:\\n\"))\n",
    "            if letter in random_word:\n",
    "                for i, j in enumerate(random_word):\n",
    "                    print(i, j)\n",
    "                    if j is letter:\n",
    "                        output[i] = letter\n",
    "                        new_output = ''.join(output)\n",
    "                        print(' '.join(output))\n",
    "                        if new_output == random_word:\n",
    "                            print(\"You've won!\")\n",
    "                            return\n",
    "            else:\n",
    "                print(letter + \" is not in the word\")\n",
    "                print(hang_array.pop())\n",
    "                print(' '.join(output))\n",
    "                if len(hang_array) < 1:\n",
    "                    print(\"You have lost, the word was {}, please try again.\".format(random_word))\n",
    "                    return"
   ]
  },
  {
   "cell_type": "code",
   "execution_count": 9,
   "metadata": {},
   "outputs": [
    {
     "name": "stdout",
     "output_type": "stream",
     "text": [
      "cat\n",
      "_ _ _\n",
      "Enter a Letter:\n",
      "c\n",
      "0 c\n",
      "c _ _\n",
      "1 a\n",
      "2 t\n",
      "Enter a Letter:\n",
      "a\n",
      "0 c\n",
      "1 a\n",
      "c a _\n",
      "2 t\n",
      "Enter a Letter:\n",
      "t\n",
      "0 c\n",
      "1 a\n",
      "2 t\n",
      "c a t\n",
      "You've won!\n"
     ]
    }
   ],
   "source": [
    "hang_man()"
   ]
  },
  {
   "cell_type": "code",
   "execution_count": null,
   "metadata": {},
   "outputs": [],
   "source": []
  }
 ],
 "metadata": {
  "kernelspec": {
   "display_name": "Python 3",
   "language": "python",
   "name": "python3"
  },
  "language_info": {
   "codemirror_mode": {
    "name": "ipython",
    "version": 3
   },
   "file_extension": ".py",
   "mimetype": "text/x-python",
   "name": "python",
   "nbconvert_exporter": "python",
   "pygments_lexer": "ipython3",
   "version": "3.8.2"
  }
 },
 "nbformat": 4,
 "nbformat_minor": 4
}
